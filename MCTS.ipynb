{
 "cells": [
  {
   "cell_type": "markdown",
   "metadata": {},
   "source": [
    "# Monte Carlo Tree Search on Chess Game\n",
    "In this notebook we demonstrate the Monte Carlo tree search applied to our chess implementation.\n",
    "More specifically, starting from the initial game situation, we learn the best moves."
   ]
  },
  {
   "cell_type": "code",
   "execution_count": 1,
   "metadata": {},
   "outputs": [],
   "source": [
    "from chess import GameController, GameControllerAdapter, MCTS"
   ]
  },
  {
   "cell_type": "code",
   "execution_count": 2,
   "metadata": {},
   "outputs": [],
   "source": [
    "ctl = GameController()\n",
    "adapter = GameControllerAdapter(ctl)\n",
    "mcts = MCTS(adapter)"
   ]
  },
  {
   "cell_type": "code",
   "execution_count": 3,
   "metadata": {},
   "outputs": [
    {
     "name": "stdout",
     "output_type": "stream",
     "text": [
      "0 simulations run.\n",
      "100 simulations run.\n",
      "200 simulations run.\n",
      "300 simulations run.\n",
      "400 simulations run.\n",
      "500 simulations run.\n",
      "600 simulations run.\n",
      "700 simulations run.\n",
      "800 simulations run.\n",
      "900 simulations run.\n"
     ]
    }
   ],
   "source": [
    "mcts.run(n_simulations=1000, verbose=True, print_every=100)"
   ]
  },
  {
   "cell_type": "code",
   "execution_count": 4,
   "metadata": {},
   "outputs": [],
   "source": [
    "def node_info(node):\n",
    "    result = \"\" \n",
    "    result += f\"{node.wins}/{node.simulations} (Wins/Simulations)\\n\"\n",
    "    win_rate = node.wins/node.simulations if node.simulations != 0 else None\n",
    "    result += f\"{win_rate} (Wins/Simulations) \\n\"\n",
    "    result += node.status()\n",
    "    return result"
   ]
  },
  {
   "cell_type": "code",
   "execution_count": 12,
   "metadata": {
    "scrolled": false
   },
   "outputs": [
    {
     "name": "stdout",
     "output_type": "stream",
     "text": [
      "Root node wins/simulations: Node level: 0\n",
      "Wins: 505/1000\n",
      "Number of possible first moves: 26\n",
      "Ranking of moves:\n",
      "43/67 (Wins/Simulations)\n",
      "0.6417910447761194 (Wins/Simulations) \n",
      " x . . . . . . o\n",
      " . . . . . . . .\n",
      " . . . . . . . .\n",
      " . . . . . . . .\n",
      " . . . . . . . .\n",
      " . . . . . . . .\n",
      " . . . . . . . .\n",
      " . . . . . . . x\n",
      "Active Player: black\n",
      "Winner: None\n",
      "39/62 (Wins/Simulations)\n",
      "0.6290322580645161 (Wins/Simulations) \n",
      " o . . . . . . x\n",
      " . . . . . . . .\n",
      " . . . . . . . .\n",
      " . . . . . . . .\n",
      " . . . . . . . .\n",
      " . . . . . . . .\n",
      " . . . . . . . .\n",
      " x . . . . . . .\n",
      "Active Player: black\n",
      "Winner: None\n",
      "30/52 (Wins/Simulations)\n",
      "0.5769230769230769 (Wins/Simulations) \n",
      " o . . . . . . o\n",
      " . . . . . . . .\n",
      " . . . . . . . .\n",
      " . . . . . . . .\n",
      " . . . . . . . .\n",
      " . . . . . . . .\n",
      " . . . . . . . .\n",
      " . . . x . . . x\n",
      "Active Player: black\n",
      "Winner: None\n",
      "29/51 (Wins/Simulations)\n",
      "0.5686274509803921 (Wins/Simulations) \n",
      " o . . . . . . o\n",
      " x . . . . . . .\n",
      " . . . . . . . .\n",
      " . . . . . . . .\n",
      " . . . . . . . .\n",
      " . . . . . . . .\n",
      " . . . . . . . .\n",
      " . . . . . . . x\n",
      "Active Player: black\n",
      "Winner: None\n"
     ]
    }
   ],
   "source": [
    "print(f\"Root node wins/simulations: {mcts.node}\")\n",
    "print(f\"Number of possible first moves: {len(mcts.node.children)}\")\n",
    "print(\"Best moves:\")\n",
    "for c in mcts.best_moves()[:4]:\n",
    "    print(node_info(c))"
   ]
  },
  {
   "cell_type": "code",
   "execution_count": 14,
   "metadata": {
    "scrolled": false
   },
   "outputs": [
    {
     "name": "stdout",
     "output_type": "stream",
     "text": [
      "43/67 (Wins/Simulations)\n",
      "0.6417910447761194 (Wins/Simulations) \n",
      " x . . . . . . o\n",
      " . . . . . . . .\n",
      " . . . . . . . .\n",
      " . . . . . . . .\n",
      " . . . . . . . .\n",
      " . . . . . . . .\n",
      " . . . . . . . .\n",
      " . . . . . . . x\n",
      "Active Player: black\n",
      "Winner: None\n",
      "6/9 (Wins/Simulations)\n",
      "0.6666666666666666 (Wins/Simulations) \n",
      " x . . . . . . .\n",
      " . . . . . . . .\n",
      " . . . . . . . .\n",
      " . . . . . . . .\n",
      " . . . . . . . .\n",
      " . . . . . . . .\n",
      " . . . . . . . o\n",
      " . . . . . . . x\n",
      "Active Player: white\n",
      "Winner: None\n",
      "1/1 (Wins/Simulations)\n",
      "1.0 (Wins/Simulations) \n",
      " x . . . . . . .\n",
      " . . . . . . . .\n",
      " . . . . . . . .\n",
      " . . . . . . . .\n",
      " . . . . . . . .\n",
      " . . . . . . . .\n",
      " . . . . . . . o\n",
      " . . . . . x . .\n",
      "Active Player: black\n",
      "Winner: None\n",
      "0/1 (Wins/Simulations)\n",
      "0.0 (Wins/Simulations) \n",
      " x . . . . . . .\n",
      " . . . . . . . o\n",
      " . . . . . . . .\n",
      " . . . . . . . .\n",
      " . . . . . . . .\n",
      " . . . . . . . .\n",
      " . . . . . . . .\n",
      " . . . . . x . .\n",
      "Active Player: white\n",
      "Winner: None\n"
     ]
    }
   ],
   "source": [
    "# Play the best game learned so far.\n",
    "node = mcts.node\n",
    "while node.has_children():\n",
    "    node = node.rank_child_nodes()[0]\n",
    "    print(node_info(node))"
   ]
  }
 ],
 "metadata": {
  "kernelspec": {
   "display_name": "Python 3",
   "language": "python",
   "name": "python3"
  },
  "language_info": {
   "codemirror_mode": {
    "name": "ipython",
    "version": 3
   },
   "file_extension": ".py",
   "mimetype": "text/x-python",
   "name": "python",
   "nbconvert_exporter": "python",
   "pygments_lexer": "ipython3",
   "version": "3.7.4"
  }
 },
 "nbformat": 4,
 "nbformat_minor": 2
}
